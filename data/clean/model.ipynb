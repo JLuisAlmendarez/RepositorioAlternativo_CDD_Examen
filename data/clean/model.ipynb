{
 "cells": [
  {
   "cell_type": "code",
   "execution_count": 10,
   "metadata": {},
   "outputs": [],
   "source": [
    "import pandas as pd\n",
    "import nltk\n",
    "from nltk.corpus import stopwords\n",
    "from nltk.stem import WordNetLemmatizer\n",
    "import string\n",
    "import re"
   ]
  },
  {
   "cell_type": "code",
   "execution_count": 11,
   "metadata": {},
   "outputs": [],
   "source": [
    "data = pd.read_csv(\"processed_data.csv\")"
   ]
  },
  {
   "cell_type": "code",
   "execution_count": 12,
   "metadata": {},
   "outputs": [],
   "source": [
    "def preprocess_text(text):\n",
    "    # minusculas\n",
    "    text = text.lower()\n",
    "    \n",
    "    # Eliminar puntuación\n",
    "    text = ''.join([char for char in text if char not in string.punctuation])\n",
    "\n",
    "    # Eliminar cadenas con más de dos 'X' consecutivas\n",
    "    text = re.sub(r'x{2,}', '', text)\n",
    "\n",
    "    text = re.sub(r'[^a-zA-Z0-9\\s]', '', text)\n",
    "    \n",
    "    # Tokenización\n",
    "    words = nltk.word_tokenize(text)\n",
    "    \n",
    "    # Eliminar stopwords\n",
    "    stop_words = set(stopwords.words('english'))\n",
    "    words = [word for word in words if word not in stop_words]\n",
    "    \n",
    "    # Lematización\n",
    "    lemmatizer = WordNetLemmatizer()\n",
    "    words = [lemmatizer.lemmatize(word) for word in words]\n",
    "    \n",
    "    # Unir las palabras preprocesadas\n",
    "    return ' '.join(words)"
   ]
  },
  {
   "cell_type": "code",
   "execution_count": 13,
   "metadata": {},
   "outputs": [],
   "source": [
    "data['complaint_what_happened'] = data['complaint_what_happened'].apply(preprocess_text)\n",
    "data['ticket_classification'] = data['ticket_classification'].apply(preprocess_text)\n"
   ]
  },
  {
   "cell_type": "code",
   "execution_count": 14,
   "metadata": {},
   "outputs": [
    {
     "data": {
      "text/html": [
       "<div>\n",
       "<style scoped>\n",
       "    .dataframe tbody tr th:only-of-type {\n",
       "        vertical-align: middle;\n",
       "    }\n",
       "\n",
       "    .dataframe tbody tr th {\n",
       "        vertical-align: top;\n",
       "    }\n",
       "\n",
       "    .dataframe thead th {\n",
       "        text-align: right;\n",
       "    }\n",
       "</style>\n",
       "<table border=\"1\" class=\"dataframe\">\n",
       "  <thead>\n",
       "    <tr style=\"text-align: right;\">\n",
       "      <th></th>\n",
       "      <th>complaint_what_happened</th>\n",
       "      <th>ticket_classification</th>\n",
       "    </tr>\n",
       "  </thead>\n",
       "  <tbody>\n",
       "    <tr>\n",
       "      <th>0</th>\n",
       "      <td>good morning name appreciate could help put st...</td>\n",
       "      <td>debt collection credit card debt</td>\n",
       "    </tr>\n",
       "    <tr>\n",
       "      <th>1</th>\n",
       "      <td>upgraded card 2018 told agent upgrade annivers...</td>\n",
       "      <td>credit card prepaid card generalpurpose credit...</td>\n",
       "    </tr>\n",
       "    <tr>\n",
       "      <th>2</th>\n",
       "      <td>chase card reported 2019 however fraudulent ap...</td>\n",
       "      <td>credit reporting credit repair service persona...</td>\n",
       "    </tr>\n",
       "    <tr>\n",
       "      <th>3</th>\n",
       "      <td>2018 trying book ticket came across offer 3000...</td>\n",
       "      <td>credit reporting credit repair service persona...</td>\n",
       "    </tr>\n",
       "    <tr>\n",
       "      <th>4</th>\n",
       "      <td>grand son give check 160000 deposit chase acco...</td>\n",
       "      <td>checking saving account checking account</td>\n",
       "    </tr>\n",
       "    <tr>\n",
       "      <th>...</th>\n",
       "      <td>...</td>\n",
       "      <td>...</td>\n",
       "    </tr>\n",
       "    <tr>\n",
       "      <th>18958</th>\n",
       "      <td>husband passed away chase bank put check hold ...</td>\n",
       "      <td>checking saving account checking account</td>\n",
       "    </tr>\n",
       "    <tr>\n",
       "      <th>18959</th>\n",
       "      <td>chase card customer well decade offered multip...</td>\n",
       "      <td>credit card prepaid card generalpurpose credit...</td>\n",
       "    </tr>\n",
       "    <tr>\n",
       "      <th>18960</th>\n",
       "      <td>wednesday called chas visa credit card provide...</td>\n",
       "      <td>credit card prepaid card generalpurpose credit...</td>\n",
       "    </tr>\n",
       "    <tr>\n",
       "      <th>18961</th>\n",
       "      <td>familiar pay understand great risk provides co...</td>\n",
       "      <td>checking saving account checking account</td>\n",
       "    </tr>\n",
       "    <tr>\n",
       "      <th>18962</th>\n",
       "      <td>flawless credit 30 yr ive chase credit card ch...</td>\n",
       "      <td>credit card prepaid card generalpurpose credit...</td>\n",
       "    </tr>\n",
       "  </tbody>\n",
       "</table>\n",
       "<p>18963 rows × 2 columns</p>\n",
       "</div>"
      ],
      "text/plain": [
       "                                 complaint_what_happened  \\\n",
       "0      good morning name appreciate could help put st...   \n",
       "1      upgraded card 2018 told agent upgrade annivers...   \n",
       "2      chase card reported 2019 however fraudulent ap...   \n",
       "3      2018 trying book ticket came across offer 3000...   \n",
       "4      grand son give check 160000 deposit chase acco...   \n",
       "...                                                  ...   \n",
       "18958  husband passed away chase bank put check hold ...   \n",
       "18959  chase card customer well decade offered multip...   \n",
       "18960  wednesday called chas visa credit card provide...   \n",
       "18961  familiar pay understand great risk provides co...   \n",
       "18962  flawless credit 30 yr ive chase credit card ch...   \n",
       "\n",
       "                                   ticket_classification  \n",
       "0                       debt collection credit card debt  \n",
       "1      credit card prepaid card generalpurpose credit...  \n",
       "2      credit reporting credit repair service persona...  \n",
       "3      credit reporting credit repair service persona...  \n",
       "4               checking saving account checking account  \n",
       "...                                                  ...  \n",
       "18958           checking saving account checking account  \n",
       "18959  credit card prepaid card generalpurpose credit...  \n",
       "18960  credit card prepaid card generalpurpose credit...  \n",
       "18961           checking saving account checking account  \n",
       "18962  credit card prepaid card generalpurpose credit...  \n",
       "\n",
       "[18963 rows x 2 columns]"
      ]
     },
     "execution_count": 14,
     "metadata": {},
     "output_type": "execute_result"
    }
   ],
   "source": [
    "data"
   ]
  },
  {
   "cell_type": "code",
   "execution_count": 15,
   "metadata": {},
   "outputs": [
    {
     "name": "stdout",
     "output_type": "stream",
     "text": [
      "Forma de la matriz de 'complaint_what_happened': (18963, 5000)\n",
      "Forma de la matriz de 'ticket_classification': (18963, 78)\n"
     ]
    }
   ],
   "source": [
    "from sklearn.feature_extraction.text import TfidfVectorizer\n",
    "\n",
    "# TF-IDF para las columnas preprocesadas\n",
    "vectorizer = TfidfVectorizer(max_features=5000) \n",
    "\n",
    "# Aplicar TF-IDF \n",
    "X_complaint = vectorizer.fit_transform(data['complaint_what_happened'])\n",
    "X_classification = vectorizer.fit_transform(data['ticket_classification'])\n",
    "\n",
    "print(f\"Forma de la matriz de 'complaint_what_happened': {X_complaint.shape}\")\n",
    "print(f\"Forma de la matriz de 'ticket_classification': {X_classification.shape}\")\n"
   ]
  },
  {
   "cell_type": "code",
   "execution_count": null,
   "metadata": {},
   "outputs": [
    {
     "name": "stdout",
     "output_type": "stream",
     "text": [
      "Tamaño de entrenamiento: (15170, 5000), Tamaño de prueba: (3793, 5000)\n"
     ]
    }
   ],
   "source": [
    "from sklearn.model_selection import train_test_split\n",
    "\n",
    "# Dividir los datos en entrenamiento y prueba\n",
    "X_train, X_test, y_train, y_test = train_test_split(X_complaint, data['ticket_classification'], test_size=0.2, random_state=42)\n",
    "\n",
    "print(f\"Tamaño de entrenamiento: {X_train.shape}, Tamaño de prueba: {X_test.shape}\")\n"
   ]
  },
  {
   "cell_type": "code",
   "execution_count": 17,
   "metadata": {},
   "outputs": [
    {
     "name": "stdout",
     "output_type": "stream",
     "text": [
      "Accuracy: 0.5929343527550751\n",
      "Reporte de clasificación:\n",
      "                                                                                          precision    recall  f1-score   support\n",
      "\n",
      "                                                bank account service bank productservice       1.00      0.02      0.04        55\n",
      "                                      bank account service cashing check without account       0.00      0.00      0.00         7\n",
      "                                             bank account service cd certificate deposit       0.00      0.00      0.00         3\n",
      "                                                   bank account service checking account       0.57      0.36      0.44       217\n",
      "                                                     bank account service saving account       0.00      0.00      0.00        17\n",
      "                                         checking saving account banking product service       0.00      0.00      0.00        36\n",
      "                                          checking saving account cd certificate deposit       1.00      0.60      0.75         5\n",
      "                                                checking saving account checking account       0.62      0.86      0.72       788\n",
      "                                                  checking saving account saving account       0.20      0.06      0.09        35\n",
      "                                                          consumer loan installment loan       0.00      0.00      0.00         8\n",
      "                                                             consumer loan vehicle lease       0.00      0.00      0.00         7\n",
      "                                                              consumer loan vehicle loan       0.50      0.09      0.16        32\n",
      "                         credit card prepaid card generalpurpose credit card charge card       0.69      0.89      0.78       969\n",
      "                                    credit card prepaid card generalpurpose prepaid card       0.00      0.00      0.00        12\n",
      "                                                      credit card prepaid card gift card       0.00      0.00      0.00         2\n",
      "                                        credit card prepaid card government benefit card       0.00      0.00      0.00         3\n",
      "                                                   credit card prepaid card payroll card       0.00      0.00      0.00         1\n",
      "                                              credit card prepaid card store credit card       0.00      0.00      0.00        14\n",
      "   credit reporting credit repair service personal consumer report credit repair service       0.00      0.00      0.00         1\n",
      "        credit reporting credit repair service personal consumer report credit reporting       0.61      0.72      0.66       389\n",
      "credit reporting credit repair service personal consumer report personal consumer report       0.00      0.00      0.00        11\n",
      "                                                                    debt collection auto       0.00      0.00      0.00         1\n",
      "                                                             debt collection credit card       0.57      0.26      0.36        46\n",
      "                                                        debt collection credit card debt       0.44      0.27      0.34        92\n",
      "                                                                    debt collection debt       0.00      0.00      0.00         6\n",
      "                                                debt collection ie phone health club etc       0.00      0.00      0.00         4\n",
      "                                                                    debt collection know       0.00      0.00      0.00        17\n",
      "                                                                debt collection mortgage       0.00      0.00      0.00         9\n",
      "                                                           debt collection mortgage debt       0.00      0.00      0.00        18\n",
      "                                                money transfer domestic u money transfer       0.00      0.00      0.00         4\n",
      "                                             money transfer international money transfer       0.00      0.00      0.00         5\n",
      "                     money transfer virtual currency money service check cashing service       0.00      0.00      0.00         2\n",
      "                 money transfer virtual currency money service domestic u money transfer       0.24      0.18      0.21        61\n",
      "                 money transfer virtual currency money service foreign currency exchange       0.00      0.00      0.00         4\n",
      "              money transfer virtual currency money service international money transfer       1.00      0.10      0.19        29\n",
      "                     money transfer virtual currency money service mobile digital wallet       0.60      0.08      0.14        39\n",
      "                               money transfer virtual currency money service money order       0.00      0.00      0.00         4\n",
      "              money transfer virtual currency money service traveler check cashier check       0.00      0.00      0.00         8\n",
      "                          money transfer virtual currency money service virtual currency       0.00      0.00      0.00         8\n",
      "                                           mortgage conventional adjustable mortgage arm       0.67      0.03      0.06        60\n",
      "                                                    mortgage conventional fixed mortgage       0.37      0.38      0.37       171\n",
      "                                                     mortgage conventional home mortgage       0.41      0.57      0.48       235\n",
      "                                                                   mortgage fha mortgage       0.34      0.33      0.34        87\n",
      "                                                   mortgage home equity loan line credit       0.00      0.00      0.00        27\n",
      "                                             mortgage home equity loan line credit heloc       0.27      0.10      0.15        30\n",
      "                                                                       mortgage mortgage       0.00      0.00      0.00        38\n",
      "                                                                  mortgage type mortgage       1.00      0.05      0.10        20\n",
      "                                                                    mortgage va mortgage       0.00      0.00      0.00        13\n",
      "                                                                                   otros       0.00      0.00      0.00         9\n",
      "                                   payday loan title loan personal loan installment loan       0.00      0.00      0.00         6\n",
      "                               payday loan title loan personal loan personal line credit       0.00      0.00      0.00         6\n",
      "                                         payday loan title loan personal loan title loan       0.00      0.00      0.00         2\n",
      "                                             student loan federal student loan servicing       0.00      0.00      0.00         2\n",
      "                                                    student loan nonfederal student loan       0.84      0.55      0.67        29\n",
      "                                                       student loan private student loan       0.00      0.00      0.00         9\n",
      "                                                                vehicle loan lease lease       0.43      0.27      0.33        22\n",
      "                                                                 vehicle loan lease loan       0.54      0.52      0.53        58\n",
      "\n",
      "                                                                                accuracy                           0.59      3793\n",
      "                                                                               macro avg       0.23      0.13      0.14      3793\n",
      "                                                                            weighted avg       0.54      0.59      0.54      3793\n",
      "\n"
     ]
    },
    {
     "name": "stderr",
     "output_type": "stream",
     "text": [
      "c:\\Users\\mpper\\AppData\\Local\\Programs\\Python\\Python312\\Lib\\site-packages\\sklearn\\metrics\\_classification.py:1531: UndefinedMetricWarning: Precision is ill-defined and being set to 0.0 in labels with no predicted samples. Use `zero_division` parameter to control this behavior.\n",
      "  _warn_prf(average, modifier, f\"{metric.capitalize()} is\", len(result))\n",
      "c:\\Users\\mpper\\AppData\\Local\\Programs\\Python\\Python312\\Lib\\site-packages\\sklearn\\metrics\\_classification.py:1531: UndefinedMetricWarning: Precision is ill-defined and being set to 0.0 in labels with no predicted samples. Use `zero_division` parameter to control this behavior.\n",
      "  _warn_prf(average, modifier, f\"{metric.capitalize()} is\", len(result))\n",
      "c:\\Users\\mpper\\AppData\\Local\\Programs\\Python\\Python312\\Lib\\site-packages\\sklearn\\metrics\\_classification.py:1531: UndefinedMetricWarning: Precision is ill-defined and being set to 0.0 in labels with no predicted samples. Use `zero_division` parameter to control this behavior.\n",
      "  _warn_prf(average, modifier, f\"{metric.capitalize()} is\", len(result))\n"
     ]
    }
   ],
   "source": [
    "from sklearn.linear_model import LogisticRegression\n",
    "from sklearn.metrics import accuracy_score, classification_report\n",
    "\n",
    "# regresión logística\n",
    "model = LogisticRegression(max_iter=1000)\n",
    "\n",
    "# Entrenar el modelo\n",
    "model.fit(X_train, y_train)\n",
    "\n",
    "# Predecir las categorías para el conjunto de prueba\n",
    "y_pred = model.predict(X_test)\n",
    "\n",
    "# Evaluar el modelo\n",
    "print(f\"Accuracy: {accuracy_score(y_test, y_pred)}\")\n",
    "print(f\"Reporte de clasificación:\\n{classification_report(y_test, y_pred)}\")\n"
   ]
  },
  {
   "cell_type": "code",
   "execution_count": 18,
   "metadata": {},
   "outputs": [],
   "source": [
    "from sklearn.ensemble import RandomForestClassifier\n",
    "from sklearn.metrics import classification_report"
   ]
  },
  {
   "cell_type": "code",
   "execution_count": 19,
   "metadata": {},
   "outputs": [],
   "source": [
    "X = data[\"complaint_what_happened\"]\n",
    "y = data[\"ticket_classification\"]"
   ]
  },
  {
   "cell_type": "code",
   "execution_count": 20,
   "metadata": {},
   "outputs": [],
   "source": [
    "X_train, X_test, y_train, y_test = train_test_split(X, y, test_size=0.2, random_state=42, stratify=y)\n"
   ]
  },
  {
   "cell_type": "code",
   "execution_count": 21,
   "metadata": {},
   "outputs": [],
   "source": [
    "\n",
    "# Vectorizar los datos de texto\n",
    "tfidf = TfidfVectorizer(max_features=5000, stop_words='english') \n",
    "X_train_tfidf = tfidf.fit_transform(X_train)\n",
    "X_test_tfidf = tfidf.transform(X_test)\n"
   ]
  },
  {
   "cell_type": "code",
   "execution_count": 22,
   "metadata": {},
   "outputs": [
    {
     "name": "stdout",
     "output_type": "stream",
     "text": [
      "Reporte de clasificación:\n",
      "                                                                                          precision    recall  f1-score   support\n",
      "\n",
      "                                                bank account service bank productservice       0.00      0.00      0.00        60\n",
      "                                      bank account service cashing check without account       0.00      0.00      0.00         4\n",
      "                                             bank account service cd certificate deposit       0.00      0.00      0.00         4\n",
      "                                                   bank account service checking account       0.33      0.00      0.01       249\n",
      "                                                     bank account service saving account       1.00      0.07      0.13        14\n",
      "                                         checking saving account banking product service       0.00      0.00      0.00        48\n",
      "                                          checking saving account cd certificate deposit       0.25      0.20      0.22         5\n",
      "                                                checking saving account checking account       0.50      0.89      0.64       758\n",
      "                                                  checking saving account saving account       0.67      0.04      0.08        46\n",
      "                                                          consumer loan installment loan       0.00      0.00      0.00         7\n",
      "                                                             consumer loan vehicle lease       0.00      0.00      0.00         5\n",
      "                                                              consumer loan vehicle loan       1.00      0.23      0.37        35\n",
      "                         credit card prepaid card generalpurpose credit card charge card       0.70      0.90      0.79       984\n",
      "                                    credit card prepaid card generalpurpose prepaid card       1.00      0.12      0.22         8\n",
      "                                                      credit card prepaid card gift card       0.00      0.00      0.00         2\n",
      "                                        credit card prepaid card government benefit card       0.00      0.00      0.00         2\n",
      "                                                   credit card prepaid card payroll card       0.00      0.00      0.00         1\n",
      "                                              credit card prepaid card store credit card       0.00      0.00      0.00        11\n",
      "   credit reporting credit repair service personal consumer report credit repair service       0.00      0.00      0.00         3\n",
      "        credit reporting credit repair service personal consumer report credit reporting       0.66      0.68      0.67       402\n",
      "credit reporting credit repair service personal consumer report personal consumer report       0.00      0.00      0.00        12\n",
      "                                                                    debt collection auto       1.00      0.50      0.67         2\n",
      "                                                               debt collection auto debt       0.00      0.00      0.00         6\n",
      "                                                             debt collection credit card       0.62      0.23      0.33        44\n",
      "                                                        debt collection credit card debt       0.62      0.28      0.39        85\n",
      "                                                                    debt collection debt       0.00      0.00      0.00         6\n",
      "                                                debt collection ie phone health club etc       0.00      0.00      0.00         4\n",
      "                                                                    debt collection know       0.00      0.00      0.00        17\n",
      "                                                                debt collection mortgage       0.00      0.00      0.00        10\n",
      "                                                           debt collection mortgage debt       0.50      0.08      0.13        13\n",
      "                                               debt collection private student loan debt       0.00      0.00      0.00         1\n",
      "                                                money transfer domestic u money transfer       0.00      0.00      0.00         7\n",
      "                                             money transfer international money transfer       0.00      0.00      0.00         4\n",
      "                     money transfer virtual currency money service check cashing service       0.00      0.00      0.00         4\n",
      "                 money transfer virtual currency money service domestic u money transfer       0.80      0.06      0.11        69\n",
      "                 money transfer virtual currency money service foreign currency exchange       0.00      0.00      0.00         3\n",
      "              money transfer virtual currency money service international money transfer       0.50      0.32      0.39        22\n",
      "                     money transfer virtual currency money service mobile digital wallet       0.00      0.00      0.00        39\n",
      "                               money transfer virtual currency money service money order       0.00      0.00      0.00         4\n",
      "                 money transfer virtual currency money service refund anticipation check       0.00      0.00      0.00         2\n",
      "              money transfer virtual currency money service traveler check cashier check       0.00      0.00      0.00         7\n",
      "                          money transfer virtual currency money service virtual currency       0.00      0.00      0.00        10\n",
      "                                           mortgage conventional adjustable mortgage arm       1.00      0.04      0.07        56\n",
      "                                                    mortgage conventional fixed mortgage       0.32      0.35      0.33       157\n",
      "                                                     mortgage conventional home mortgage       0.37      0.61      0.46       191\n",
      "                                                                   mortgage fha mortgage       0.45      0.18      0.26        99\n",
      "                                                   mortgage home equity loan line credit       0.50      0.06      0.11        32\n",
      "                                             mortgage home equity loan line credit heloc       0.35      0.21      0.26        33\n",
      "                                                                       mortgage mortgage       1.00      0.05      0.10        38\n",
      "                                                                  mortgage type mortgage       0.00      0.00      0.00        22\n",
      "                                                                    mortgage va mortgage       0.50      0.11      0.17        19\n",
      "                                                                                   otros       0.00      0.00      0.00         9\n",
      "                                   payday loan title loan personal loan installment loan       0.00      0.00      0.00         3\n",
      "                               payday loan title loan personal loan personal line credit       0.00      0.00      0.00         4\n",
      "                                         payday loan title loan personal loan title loan       0.00      0.00      0.00         2\n",
      "                                             student loan federal student loan servicing       0.00      0.00      0.00         2\n",
      "                                                    student loan nonfederal student loan       0.68      0.81      0.74        21\n",
      "                                                       student loan private student loan       0.00      0.00      0.00         5\n",
      "                                                                vehicle loan lease lease       0.64      0.75      0.69        24\n",
      "                                                                 vehicle loan lease loan       0.54      0.39      0.45        57\n",
      "\n",
      "                                                                                accuracy                           0.57      3793\n",
      "                                                                               macro avg       0.27      0.14      0.15      3793\n",
      "                                                                            weighted avg       0.53      0.57      0.49      3793\n",
      "\n"
     ]
    },
    {
     "name": "stderr",
     "output_type": "stream",
     "text": [
      "c:\\Users\\mpper\\AppData\\Local\\Programs\\Python\\Python312\\Lib\\site-packages\\sklearn\\metrics\\_classification.py:1531: UndefinedMetricWarning: Precision is ill-defined and being set to 0.0 in labels with no predicted samples. Use `zero_division` parameter to control this behavior.\n",
      "  _warn_prf(average, modifier, f\"{metric.capitalize()} is\", len(result))\n",
      "c:\\Users\\mpper\\AppData\\Local\\Programs\\Python\\Python312\\Lib\\site-packages\\sklearn\\metrics\\_classification.py:1531: UndefinedMetricWarning: Precision is ill-defined and being set to 0.0 in labels with no predicted samples. Use `zero_division` parameter to control this behavior.\n",
      "  _warn_prf(average, modifier, f\"{metric.capitalize()} is\", len(result))\n",
      "c:\\Users\\mpper\\AppData\\Local\\Programs\\Python\\Python312\\Lib\\site-packages\\sklearn\\metrics\\_classification.py:1531: UndefinedMetricWarning: Precision is ill-defined and being set to 0.0 in labels with no predicted samples. Use `zero_division` parameter to control this behavior.\n",
      "  _warn_prf(average, modifier, f\"{metric.capitalize()} is\", len(result))\n"
     ]
    }
   ],
   "source": [
    "# Entrenar un modelo Random Forest\n",
    "rf_model = RandomForestClassifier(\n",
    "    n_estimators=200,  \n",
    "    random_state=42,\n",
    "    class_weight=\"balanced\" \n",
    ")\n",
    "rf_model.fit(X_train_tfidf, y_train)\n",
    "\n",
    "# Hacer predicciones\n",
    "y_pred = rf_model.predict(X_test_tfidf)\n",
    "\n",
    "# Evaluar el modelo\n",
    "print(\"Reporte de clasificación:\")\n",
    "print(classification_report(y_test, y_pred))\n"
   ]
  },
  {
   "cell_type": "code",
   "execution_count": null,
   "metadata": {},
   "outputs": [],
   "source": []
  }
 ],
 "metadata": {
  "kernelspec": {
   "display_name": "Python 3",
   "language": "python",
   "name": "python3"
  },
  "language_info": {
   "codemirror_mode": {
    "name": "ipython",
    "version": 3
   },
   "file_extension": ".py",
   "mimetype": "text/x-python",
   "name": "python",
   "nbconvert_exporter": "python",
   "pygments_lexer": "ipython3",
   "version": "3.12.0"
  }
 },
 "nbformat": 4,
 "nbformat_minor": 2
}
